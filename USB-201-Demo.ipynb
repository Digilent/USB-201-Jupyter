{
 "cells": [
  {
   "cell_type": "code",
   "execution_count": 1,
   "id": "0672b36a-2b7f-4bf6-8c47-e63384e6d320",
   "metadata": {},
   "outputs": [],
   "source": [
    "from __future__ import absolute_import, division, print_function\n",
    "\n",
    "from IPython.display import display as display\n",
    "from IPython.display import Markdown as markdown\n",
    "import random as rd\n",
    "import numpy as np\n",
    "import pandas as pd\n",
    "import matplotlib.pylab as plt\n",
    "import time as t\n",
    "\n",
    "\n",
    "#Measurement Computing mcculw imports\n",
    "from mcculw import ul\n",
    "from mcculw.enums import (FunctionType, ScanOptions, ULRange, InterfaceType)\n",
    "from ctypes import cast, POINTER, c_double, c_ushort, c_ulong\n",
    "from mcculw.ul import ULError\n",
    "from mcculw.enums import InterfaceType\n",
    "from mcculw.enums import ULRange\n",
    "from mcculw.enums import AnalogInputMode\n",
    "\n",
    "\n",
    "# USB-201 demonstation class\n",
    "class daq:\n",
    "\n",
    "\n",
    "    @classmethod \n",
    "    def __init__(self, device_name = \"USB-201\", rate = 100, samples=100):\n",
    "        self.board_name = device_name\n",
    "        self.points_per_channel = samples\n",
    "        self.sample_rate = rate\n",
    "        self.num_chans = 4\n",
    "        self.max_length = 2000\n",
    "        self.total_count = 1\n",
    "        self.board_number = -1\n",
    "        self.memhandle = 0\n",
    "        self.temp = np.zeros((1,4))\n",
    "        self.arr = np.zeros((self.max_length, self.num_chans))\n",
    "        self.device = 0\n",
    "        self.open_device(self)\n",
    "\n",
    "        \n",
    "    @classmethod \n",
    "    def __del__(self):\n",
    "        self.close_device(self)\n",
    "\n",
    "    def __str__(self):\n",
    "        return f\"{self.board_name}\"\n",
    "\n",
    "    def _create_array(self):\n",
    "        np.resize(self.arr, (self.points_per_channel, self.num_chans))\n",
    "        self.arr.fill(0)\n",
    "        return self.arr\n",
    "\n",
    "\n",
    "    def set_sample_rate(self, sample_rate=100):\n",
    "        if int(sample_rate * self.num_chans) > 100000:\n",
    "            display(markdown(f\"Sample rate too high, the maximum is 25,000 Hz. Reset to 100 Hz\"))\n",
    "            self.sample_rate = 100\n",
    "        else:\n",
    "            self.sample_rate = sample_rate\n",
    "            display(markdown(f\"Sample rate changed to {self.sample_rate} Hz\"))\n",
    "        return self.sample_rate\n",
    "\n",
    "\n",
    "\n",
    "    def set_samples_per_channel(self, number_of_samples=333):\n",
    "        if int(number_of_samples) > self.max_length:\n",
    "            display(markdown(f\"Requested samples per channel {number_of_samples} is greater than {self.max_length}, reset to 1000\"))\n",
    "            self.points_per_channel = 1000\n",
    "        else:\n",
    "            self.points_per_channel = number_of_samples\n",
    "            display(markdown(f\"Samples per channel changed to {self.points_per_channel}\"))\n",
    "        return self.points_per_channel\n",
    "\n",
    "    '''\n",
    "    open_device is executed in __init___\n",
    "\n",
    "    It attempts to find a device by its commercial name. Once found, \n",
    "    it sets the board number, sample rate and number of sameples\n",
    "    per channel\n",
    "    '''\n",
    "\n",
    "    def open_device(self):\n",
    "\n",
    "        board_num = -1\n",
    "        board_index = 0\n",
    "        board_num = -1\n",
    "\n",
    "        ul.ignore_instacal()\n",
    "\n",
    "        dev_list = ul.get_daq_device_inventory(InterfaceType.USB)\n",
    "        if len(dev_list) > 0:\n",
    "            for device in dev_list:\n",
    "                if str(device) == self.board_name:\n",
    "                    self.device = device\n",
    "                    display(markdown(f\"Found {device} board number = {board_index}\"))\n",
    "                    display(markdown(f\"Serial number: {device.unique_id}\"))\n",
    "                    display(markdown(f\"Product type: {hex(device.product_id)}\"))\n",
    "                    display(markdown(f\"Samples per channel {self.points_per_channel} \"))\n",
    "                    display(markdown(f\"Sample rate is {self.sample_rate} \"))\n",
    "                    self.board_num = board_index\n",
    "                    ul.create_daq_device(self.board_num, device)\n",
    "                    return\n",
    "            if board_num == -1:\n",
    "                display(markdown(f\"Device {self.board_name} not found\"))\n",
    "                \n",
    "        else:\n",
    "            display(markdown(\"No devices detected\"))\n",
    "\n",
    "\n",
    "\n",
    "    '''\n",
    "    This function is call by the destructor:\n",
    "    def __del__(self):\n",
    "        self.close_device(self)\n",
    "    It closes the device and frees the allocated buffer memory\n",
    "    '''\n",
    "\n",
    "    def close_device(self):\n",
    "        if self.memhandle:\n",
    "            # Free the buffer in a finally block to prevent a memory leak.\n",
    "            ul.win_buf_free(self.memhandle)\n",
    "        if self.board_num > -1:\n",
    "            ul.release_daq_device(self.board_num)\n",
    "            display(markdown(f\"{self.board_name} closed...\"))\n",
    "        \n",
    "\n",
    "    '''\n",
    "    plotting routine, requires a 2D array containing four channels\n",
    "    '''\n",
    "\n",
    "    def plot_data(self, arr):\n",
    "\n",
    "        x = np.linspace(start=0, stop=19, num=self.points_per_channel, dtype=np.dtype(np.int16))\n",
    "\n",
    "        ch0 = [row[0] for row in arr]\n",
    "        ch1 = [row[1] for row in arr]\n",
    "        ch2 = [row[2] for row in arr]\n",
    "        ch3 = [row[3] for row in arr]\n",
    "\n",
    "        plt.plot(ch0, 'b', ch1, 'r', ch2, 'g', ch3, 'k')\n",
    "        plt.xlabel('Samples');\n",
    "        plt.ylabel('Volts');\n",
    "        plt.title('Plotting Demonstration')\n",
    "        plt.legend(['Channel 0', 'Channel 1', 'Channel 2', 'Channel 3'])\n",
    "        plt.grid()\n",
    "        plt.show()\n",
    "\n",
    "    '''\n",
    "    get_data() \n",
    "\n",
    "    Determines the total sample count,\n",
    "    which is samples per channel times the \n",
    "    number of channels. \n",
    "\n",
    "    For simplicity, the channels are hard coded to \n",
    "    be 0 - 3\n",
    "\n",
    "    The default buffer is resize to me the user demands\n",
    "\n",
    "    mcculw a_in_scan function is used to grab requested\n",
    "    scans. FOREGROUND scan mode is used,\n",
    "    which blocks the function until all the samples have\n",
    "    been acquired.     \n",
    "    '''\n",
    "\n",
    "    def get_data(self):\n",
    "\n",
    "        memhandle = None\n",
    "\n",
    "        low_chan = 0\n",
    "        high_chan = 3\n",
    "\n",
    "        self.total_count = self.points_per_channel * self.num_chans\n",
    "        self.arr = np.resize(self.arr, (self.points_per_channel, self.num_chans))\n",
    "        self.memhandle = ul.scaled_win_buf_alloc(self.total_count)\n",
    "    \n",
    "        ctypes_array = cast(self.memhandle, POINTER(c_double))\n",
    "\n",
    "        # Check if the buffer was successfully allocated\n",
    "        if not self.memhandle:\n",
    "            raise Exception('Error: Failed to allocate memory')\n",
    "\n",
    "        # Start the scan\n",
    "        e = ul.a_in_scan(self.board_num, low_chan, high_chan, self.total_count,\n",
    "                         self.sample_rate, ULRange.BIP10VOLTS, self.memhandle,\n",
    "                         ScanOptions.FOREGROUND | ScanOptions.SCALEDATA)\n",
    "\n",
    "        display(markdown(\"Scan completed successfully.\"))\n",
    "\n",
    "        data_index = 0\n",
    "        for row in range(self.points_per_channel):\n",
    "            self.temp = self.arr[row]\n",
    "            for chan in range(self.num_chans):\n",
    "                eng_value = ctypes_array[data_index]\n",
    "                self.temp[chan] = eng_value\n",
    "                data_index += 1\n",
    "\n",
    "        return self.arr\n"
   ]
  },
  {
   "cell_type": "code",
   "execution_count": 2,
   "id": "e2405834-ee17-4556-bd66-173c108a5751",
   "metadata": {},
   "outputs": [
    {
     "data": {
      "text/markdown": [
       "# Welcome to my USB-201 Demonstration"
      ],
      "text/plain": [
       "<IPython.core.display.Markdown object>"
      ]
     },
     "metadata": {},
     "output_type": "display_data"
    },
    {
     "data": {
      "text/markdown": [
       "Found USB-201 board number = 0"
      ],
      "text/plain": [
       "<IPython.core.display.Markdown object>"
      ]
     },
     "metadata": {},
     "output_type": "display_data"
    },
    {
     "data": {
      "text/markdown": [
       "Serial number: 1FFC8D1"
      ],
      "text/plain": [
       "<IPython.core.display.Markdown object>"
      ]
     },
     "metadata": {},
     "output_type": "display_data"
    },
    {
     "data": {
      "text/markdown": [
       "Product type: 0x113"
      ],
      "text/plain": [
       "<IPython.core.display.Markdown object>"
      ]
     },
     "metadata": {},
     "output_type": "display_data"
    },
    {
     "data": {
      "text/markdown": [
       "Samples per channel 200 "
      ],
      "text/plain": [
       "<IPython.core.display.Markdown object>"
      ]
     },
     "metadata": {},
     "output_type": "display_data"
    },
    {
     "data": {
      "text/markdown": [
       "Sample rate is 1000 "
      ],
      "text/plain": [
       "<IPython.core.display.Markdown object>"
      ]
     },
     "metadata": {},
     "output_type": "display_data"
    },
    {
     "data": {
      "text/markdown": [
       "Samples per channel changed to 2000"
      ],
      "text/plain": [
       "<IPython.core.display.Markdown object>"
      ]
     },
     "metadata": {},
     "output_type": "display_data"
    },
    {
     "data": {
      "text/markdown": [
       "Sample rate changed to 2000 Hz"
      ],
      "text/plain": [
       "<IPython.core.display.Markdown object>"
      ]
     },
     "metadata": {},
     "output_type": "display_data"
    },
    {
     "data": {
      "text/markdown": [
       "Scan completed successfully."
      ],
      "text/plain": [
       "<IPython.core.display.Markdown object>"
      ]
     },
     "metadata": {},
     "output_type": "display_data"
    },
    {
     "data": {
      "image/png": "[encoded data removed]",
      "text/plain": [
       "<Figure size 640x480 with 1 Axes>"
      ]
     },
     "metadata": {},
     "output_type": "display_data"
    },
    {
     "data": {
      "text/html": [
       "<div>\n",
       "<style scoped>\n",
       "    .dataframe tbody tr th:only-of-type {\n",
       "        vertical-align: middle;\n",
       "    }\n",
       "\n",
       "    .dataframe tbody tr th {\n",
       "        vertical-align: top;\n",
       "    }\n",
       "\n",
       "    .dataframe thead th {\n",
       "        text-align: right;\n",
       "    }\n",
       "</style>\n",
       "<table border=\"1\" class=\"dataframe\">\n",
       "  <thead>\n",
       "    <tr style=\"text-align: right;\">\n",
       "      <th></th>\n",
       "      <th>Ch0</th>\n",
       "      <th>Ch1</th>\n",
       "      <th>Ch2</th>\n",
       "      <th>Ch3</th>\n",
       "    </tr>\n",
       "  </thead>\n",
       "  <tbody>\n",
       "    <tr>\n",
       "      <th>0</th>\n",
       "      <td>-0.001978</td>\n",
       "      <td>1.74919</td>\n",
       "      <td>1.757415</td>\n",
       "      <td>1.753897</td>\n",
       "    </tr>\n",
       "    <tr>\n",
       "      <th>1</th>\n",
       "      <td>-0.001978</td>\n",
       "      <td>1.74919</td>\n",
       "      <td>1.757415</td>\n",
       "      <td>1.753897</td>\n",
       "    </tr>\n",
       "    <tr>\n",
       "      <th>2</th>\n",
       "      <td>-0.001978</td>\n",
       "      <td>1.74919</td>\n",
       "      <td>1.752309</td>\n",
       "      <td>1.753897</td>\n",
       "    </tr>\n",
       "    <tr>\n",
       "      <th>3</th>\n",
       "      <td>-0.001978</td>\n",
       "      <td>1.74919</td>\n",
       "      <td>1.757415</td>\n",
       "      <td>1.753897</td>\n",
       "    </tr>\n",
       "    <tr>\n",
       "      <th>4</th>\n",
       "      <td>-0.001978</td>\n",
       "      <td>1.74919</td>\n",
       "      <td>1.757415</td>\n",
       "      <td>1.753897</td>\n",
       "    </tr>\n",
       "    <tr>\n",
       "      <th>...</th>\n",
       "      <td>...</td>\n",
       "      <td>...</td>\n",
       "      <td>...</td>\n",
       "      <td>...</td>\n",
       "    </tr>\n",
       "    <tr>\n",
       "      <th>1995</th>\n",
       "      <td>-0.001978</td>\n",
       "      <td>1.74919</td>\n",
       "      <td>1.757415</td>\n",
       "      <td>1.753897</td>\n",
       "    </tr>\n",
       "    <tr>\n",
       "      <th>1996</th>\n",
       "      <td>-0.001978</td>\n",
       "      <td>1.74919</td>\n",
       "      <td>1.757415</td>\n",
       "      <td>1.753897</td>\n",
       "    </tr>\n",
       "    <tr>\n",
       "      <th>1997</th>\n",
       "      <td>-0.001978</td>\n",
       "      <td>1.74919</td>\n",
       "      <td>1.757415</td>\n",
       "      <td>1.753897</td>\n",
       "    </tr>\n",
       "    <tr>\n",
       "      <th>1998</th>\n",
       "      <td>-0.001978</td>\n",
       "      <td>1.74919</td>\n",
       "      <td>1.757415</td>\n",
       "      <td>1.753897</td>\n",
       "    </tr>\n",
       "    <tr>\n",
       "      <th>1999</th>\n",
       "      <td>-0.001978</td>\n",
       "      <td>1.74919</td>\n",
       "      <td>1.757415</td>\n",
       "      <td>1.753897</td>\n",
       "    </tr>\n",
       "  </tbody>\n",
       "</table>\n",
       "<p>2000 rows × 4 columns</p>\n",
       "</div>"
      ],
      "text/plain": [
       "           Ch0      Ch1       Ch2       Ch3\n",
       "0    -0.001978  1.74919  1.757415  1.753897\n",
       "1    -0.001978  1.74919  1.757415  1.753897\n",
       "2    -0.001978  1.74919  1.752309  1.753897\n",
       "3    -0.001978  1.74919  1.757415  1.753897\n",
       "4    -0.001978  1.74919  1.757415  1.753897\n",
       "...        ...      ...       ...       ...\n",
       "1995 -0.001978  1.74919  1.757415  1.753897\n",
       "1996 -0.001978  1.74919  1.757415  1.753897\n",
       "1997 -0.001978  1.74919  1.757415  1.753897\n",
       "1998 -0.001978  1.74919  1.757415  1.753897\n",
       "1999 -0.001978  1.74919  1.757415  1.753897\n",
       "\n",
       "[2000 rows x 4 columns]"
      ]
     },
     "metadata": {},
     "output_type": "display_data"
    },
    {
     "data": {
      "text/markdown": [
       "USB-201 closed..."
      ],
      "text/plain": [
       "<IPython.core.display.Markdown object>"
      ]
     },
     "metadata": {},
     "output_type": "display_data"
    }
   ],
   "source": [
    "display(markdown(\"# Welcome to my USB-201 Demonstration\"))\n",
    "\n",
    "mcc = daq(\"USB-201\", rate=1000, samples=200)\n",
    "\n",
    "\n",
    "new_number_of_samples = mcc.set_samples_per_channel(number_of_samples=2000)\n",
    "new_rate = mcc.set_sample_rate(sample_rate = 2000)\n",
    "\n",
    "daq_data = mcc.get_data()\n",
    "mcc.plot_data(daq_data)\n",
    "\n",
    "\n",
    "h=display(display_id=2)\n",
    "df = pd.DataFrame(data=daq_data[0:mcc.points_per_channel], columns=['Ch0','Ch1', 'Ch2','Ch3'])\n",
    "h.update(df)\n",
    "\n",
    "del mcc\n"
   ]
  },
  {
   "cell_type": "code",
   "execution_count": null,
   "id": "db1f76d0-f512-45ed-9470-e458e132cae6",
   "metadata": {},
   "outputs": [],
   "source": []
  }
 ],
 "metadata": {
  "kernelspec": {
   "display_name": "Python 3 (ipykernel)",
   "language": "python",
   "name": "python3"
  },
  "language_info": {
   "codemirror_mode": {
    "name": "ipython",
    "version": 3
   },
   "file_extension": ".py",
   "mimetype": "text/x-python",
   "name": "python",
   "nbconvert_exporter": "python",
   "pygments_lexer": "ipython3",
   "version": "3.12.1"
  }
 },
 "nbformat": 4,
 "nbformat_minor": 5
}
